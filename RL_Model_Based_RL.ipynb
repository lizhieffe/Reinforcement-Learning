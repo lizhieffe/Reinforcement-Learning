{
  "nbformat": 4,
  "nbformat_minor": 0,
  "metadata": {
    "colab": {
      "provenance": [],
      "authorship_tag": "ABX9TyOE4opCC8bPuF96JsMfw2xg",
      "include_colab_link": true
    },
    "kernelspec": {
      "name": "python3",
      "display_name": "Python 3"
    },
    "language_info": {
      "name": "python"
    }
  },
  "cells": [
    {
      "cell_type": "markdown",
      "metadata": {
        "id": "view-in-github",
        "colab_type": "text"
      },
      "source": [
        "<a href=\"https://colab.research.google.com/github/lizhieffe/Reinforcement-Learning/blob/master/RL_Model_Based_RL.ipynb\" target=\"_parent\"><img src=\"https://colab.research.google.com/assets/colab-badge.svg\" alt=\"Open In Colab\"/></a>"
      ]
    },
    {
      "cell_type": "code",
      "execution_count": 1,
      "metadata": {
        "id": "Y-TCZ_SAPHml"
      },
      "outputs": [],
      "source": [
        "import numpy as np\n",
        "import random\n",
        "import matplotlib.pyplot as plt\n",
        "import copy"
      ]
    },
    {
      "cell_type": "code",
      "source": [
        "# Used by Epsilon-Greedy\n",
        "_EPSILON = 0.5"
      ],
      "metadata": {
        "id": "AIZMRlSrPMgn"
      },
      "execution_count": 2,
      "outputs": []
    },
    {
      "cell_type": "code",
      "source": [
        "# index 0: the id of the state\n",
        "# index 1: the id of the action\n",
        "# value: the id of the next state\n",
        "\n",
        "state_transition_table = [\n",
        "    [0, 1, 4, 0],\n",
        "    [1, 2, 5, 0],\n",
        "    [2, 3, 6, 1],\n",
        "    [3, 3, 7, 2],\n",
        "    [0, 5, 8, 4],\n",
        "    [1, 6, 9, 4],\n",
        "    [2, 7, 10, 5],\n",
        "    [3, 7, 11, 6],\n",
        "    [4, 9, 12, 8],\n",
        "    [5, 10, 13, 8],\n",
        "    [6, 11, 14, 9],\n",
        "    [7, 11, 15, 10],\n",
        "    [8, 13, 12, 12],\n",
        "    [9, 14, 13, 12],\n",
        "    [10, 15, 14, 13],\n",
        "    [11, 15, 15, 14]\n",
        "]\n",
        "\n",
        "num_states = len(state_transition_table)"
      ],
      "metadata": {
        "id": "wzHEibSRPOyL"
      },
      "execution_count": 3,
      "outputs": []
    },
    {
      "cell_type": "code",
      "source": [
        "terminal_state = 3\n",
        "\n",
        "rewards = np.zeros(num_states)\n",
        "rewards[terminal_state] = 10\n",
        "\n",
        "rewards[2] = -1\n",
        "rewards[11] = -1\n",
        "rewards[10] = -1"
      ],
      "metadata": {
        "id": "6EXT8LkTPQeH"
      },
      "execution_count": 5,
      "outputs": []
    },
    {
      "cell_type": "code",
      "source": [
        "fig1, ax1 = plt.subplots(1)\n",
        "\n",
        "ax1.imshow(rewards.reshape(4,4))\n",
        "\n",
        "for (j, i), label in np.ndenumerate(rewards.reshape(4,4).round(4)):\n",
        "  ax1.text(i, j, label, ha='center', va='center')"
      ],
      "metadata": {
        "colab": {
          "base_uri": "https://localhost:8080/",
          "height": 435
        },
        "id": "u-0o_OvePSiQ",
        "outputId": "484e2ef2-315f-4f9b-d66c-2255a4f80c93"
      },
      "execution_count": 6,
      "outputs": [
        {
          "output_type": "display_data",
          "data": {
            "text/plain": [
              "<Figure size 640x480 with 1 Axes>"
            ],
            "image/png": "[encoded data removed]"
          },
          "metadata": {}
        }
      ]
    },
    {
      "cell_type": "code",
      "source": [
        "gamma = 0.9"
      ],
      "metadata": {
        "id": "KQDIZjmXPVZn"
      },
      "execution_count": 8,
      "outputs": []
    },
    {
      "cell_type": "code",
      "source": [
        "# @title An agent to test the value table.\n",
        "\n",
        "def test_agent():\n",
        "  \"\"\"Use greedy action selection to run a trajectory based on the current state_values.\n",
        "\n",
        "  Returns:\n",
        "    [0]: the total reward on the trajectory.\n",
        "    [1]: the states on the trajectory.\n",
        "  \"\"\"\n",
        "  state = 12\n",
        "  done = False\n",
        "  steps = 0\n",
        "  total_rewards = 0\n",
        "  states_log = []\n",
        "\n",
        "  while (not(state == terminal_state)) and steps < 40:\n",
        "    states_log.append(state)\n",
        "    # print(f\"{state=}, {state_transition_table[state]=}\")\n",
        "    # print(f\"{state=}, {state_transition_table[state]=}, {state_values[state_transition_table[state]]=}\")\n",
        "    # break\n",
        "    action = np.argmax(state_values[state_transition_table[state]])\n",
        "    state = state_transition_table[state][action]\n",
        "    total_rewards += rewards[state]\n",
        "    steps += 1\n",
        "\n",
        "  states_log.append(state)\n",
        "  return total_rewards, states_log"
      ],
      "metadata": {
        "id": "FrGJeza4PXc_"
      },
      "execution_count": 9,
      "outputs": []
    },
    {
      "cell_type": "code",
      "source": [
        "class VanillaStateValuesUpdater():\n",
        "  def __init__(self):\n",
        "    # log of the returns on each trajectory. Each element is a single trajectory.\n",
        "    self.returns_log = []\n",
        "\n",
        "  def _returns(self, values: list[int], rewards: list[int], states: list[int]) -> list[float]:\n",
        "    \"\"\"Intake one trajectory and calculate the returns.\n",
        "\n",
        "    Args:\n",
        "      values: the current values of each state. Not used.\n",
        "      rewards: the rewards along the trajectory.\n",
        "      states: the states along the trajectory.\n",
        "\n",
        "    Returns:\n",
        "      The returns along the trajectory.\n",
        "    \"\"\"\n",
        "    del values\n",
        "\n",
        "    state_visit_counts = np.zeros(num_states)\n",
        "    state_returns = np.zeros(num_states)\n",
        "\n",
        "    ret = 0\n",
        "\n",
        "    for i in reversed(range(len(states))):\n",
        "      state = states[i]\n",
        "      reward = rewards[i]\n",
        "\n",
        "      ret = reward + gamma * ret\n",
        "      state_returns[state] += ret\n",
        "      state_visit_counts[state] += 1\n",
        "\n",
        "    state_returns = state_returns / (state_visit_counts + 1e-4)\n",
        "\n",
        "    return state_returns\n",
        "\n",
        "  def update(self, values: list[int], rewards: list[int], states: list[int]) -> list[float]:\n",
        "    \"\"\"Update the state values.\n",
        "\n",
        "    Args:\n",
        "      values: the current values of each state. Not used.\n",
        "      rewards: the rewards along the new trajectory.\n",
        "      states: the states along the new trajectory.\n",
        "\n",
        "    Returns:\n",
        "      The updated state values.\n",
        "    \"\"\"\n",
        "    ret = self._returns(values, rewards, states)\n",
        "    self.returns_log.append(ret)\n",
        "    return np.mean(self.returns_log, 0)\n",
        "\n",
        "class MonteCarloStateValuesUpdater():\n",
        "  \"\"\"Compared to vanilla, MC has difference\n",
        "  1) it updates immediately on each step of a trajectory, instead of waiting for a trajectory finishes then update\n",
        "  2) it updates smoothly with alpha; this is helpful because the rewards are sparse.\n",
        "  \"\"\"\n",
        "\n",
        "  alpha = 0.05\n",
        "\n",
        "  def update(self, values: list[int], rewards: list[int], states: list[int]) -> list[float]:\n",
        "    \"\"\"Update the state values.\n",
        "\n",
        "    Args:\n",
        "      values: the current values of each state. Not used.\n",
        "      rewards: the rewards along the new trajectory.\n",
        "      states: the states along the new trajectory.\n",
        "\n",
        "    Returns:\n",
        "      The updated state values.\n",
        "    \"\"\"\n",
        "    assert len(rewards) == len(states)\n",
        "    ret = 0\n",
        "    updated_values = copy.deepcopy(values)\n",
        "\n",
        "    for i in reversed(range(len(states))):\n",
        "      state = states[i]\n",
        "      reward = rewards[i]\n",
        "      ret = reward + gamma * ret\n",
        "      updated_values[state] = updated_values[state] + self.alpha * (ret - updated_values[state])\n",
        "\n",
        "    return updated_values\n",
        "\n",
        "\n",
        "class TemperalDifferenceStateValuesUpdater():\n",
        "  \"\"\"Compared to MC, the differences are\n",
        "  1) it updates using td-error, instead of the return of the current trajectory, to make the update smoothly for the sparse rewards in the trajectory.\n",
        "  \"\"\"\n",
        "\n",
        "  alpha = 0.05\n",
        "\n",
        "  def update(self, values: list[int], rewards: list[int], states: list[int]) -> list[float]:\n",
        "    \"\"\"Update the state values.\n",
        "\n",
        "    Args:\n",
        "      values: the current values of each state. Not used.\n",
        "      rewards: the rewards along the new trajectory.\n",
        "      states: the states along the new trajectory.\n",
        "\n",
        "    Returns:\n",
        "      The updated state values.\n",
        "    \"\"\"\n",
        "    assert len(rewards) == len(states)\n",
        "    updated_values = copy.deepcopy(values)\n",
        "\n",
        "    next_state_value = 0\n",
        "\n",
        "    for i in reversed(range(len(states))):\n",
        "\n",
        "      state = states[i]\n",
        "      reward = rewards[i]\n",
        "\n",
        "      curr_state_value = state_values[state]\n",
        "\n",
        "      td_err = reward + gamma * next_state_value - curr_state_value\n",
        "\n",
        "\n",
        "      updated_values[state] = updated_values[state] + self.alpha * td_err\n",
        "      next_state_value = curr_state_value\n",
        "\n",
        "    return updated_values\n",
        "\n",
        "state_values_updater = VanillaStateValuesUpdater()\n",
        "state_values_updater = MonteCarloStateValuesUpdater()\n",
        "state_values_updater = TemperalDifferenceStateValuesUpdater()\n",
        "\n",
        "state_values = np.zeros(num_states)\n",
        "score_log = []\n",
        "\n",
        "for i in range(1000):\n",
        "  state = 12\n",
        "  state_log = []\n",
        "  reward_log = []\n",
        "  steps = 0\n",
        "\n",
        "  while (not(state == terminal_state)) and steps < 40:\n",
        "    reward_log.append(rewards[state])\n",
        "    state_log.append(state)\n",
        "\n",
        "    if random.uniform(0, 1) > _EPSILON:\n",
        "      # Exploitation\n",
        "      action = np.argmax(state_values[state_transition_table[state]])\n",
        "    else:\n",
        "      # Exploration\n",
        "      action = random.randint(0, 3)\n",
        "    state = state_transition_table[state][action]\n",
        "    steps += 1\n",
        "\n",
        "  reward_log.append(rewards[state])\n",
        "  state_log.append(state)\n",
        "\n",
        "  # if i == 998:\n",
        "  #   print(f\"{state_values=}\")\n",
        "  #   print(f\"{reward_log=}\")\n",
        "  #   print(f\"{state_log=}\")\n",
        "  # ret = returns(state_values, reward_log, state_log)\n",
        "\n",
        "  state_values = state_values_updater.update(state_values, reward_log, state_log)\n",
        "\n",
        "  score_log.append(test_agent()[0])"
      ],
      "metadata": {
        "id": "7K7VylvEPdvo"
      },
      "execution_count": 10,
      "outputs": []
    },
    {
      "cell_type": "code",
      "source": [
        "# Plot the state values grid\n",
        "\n",
        "fig1, ax1 = plt.subplots(1)\n",
        "ax1.imshow(state_values.reshape(4,4))\n",
        "\n",
        "for (j, i), label in np.ndenumerate(state_values.reshape(4,4).round(4)):\n",
        "  ax1.text(i, j, label, ha='center', va='center')"
      ],
      "metadata": {
        "colab": {
          "base_uri": "https://localhost:8080/",
          "height": 435
        },
        "id": "8GT4O5xsPg3y",
        "outputId": "1ebaf712-4592-4edb-e270-dc47711c1eb2"
      },
      "execution_count": 12,
      "outputs": [
        {
          "output_type": "display_data",
          "data": {
            "text/plain": [
              "<Figure size 640x480 with 1 Axes>"
            ],
            "image/png": "[encoded data removed]"
          },
          "metadata": {}
        }
      ]
    },
    {
      "cell_type": "code",
      "source": [
        "plt.plot(score_log)"
      ],
      "metadata": {
        "colab": {
          "base_uri": "https://localhost:8080/",
          "height": 448
        },
        "id": "RAsb0vcrPqzp",
        "outputId": "44cecb9f-3893-441d-f564-4a8edafa7f9e"
      },
      "execution_count": 13,
      "outputs": [
        {
          "output_type": "execute_result",
          "data": {
            "text/plain": [
              "[<matplotlib.lines.Line2D at 0x7a3e7cc70040>]"
            ]
          },
          "metadata": {},
          "execution_count": 13
        },
        {
          "output_type": "display_data",
          "data": {
            "text/plain": [
              "<Figure size 640x480 with 1 Axes>"
            ],
            "image/png": "[encoded data removed]"
          },
          "metadata": {}
        }
      ]
    },
    {
      "cell_type": "code",
      "source": [
        "_, state_log = test_agent()\n",
        "state_view = np.zeros(num_states)\n",
        "state_view[state_log] = 1\n",
        "plt.imshow(state_view.reshape(4,4))"
      ],
      "metadata": {
        "colab": {
          "base_uri": "https://localhost:8080/",
          "height": 453
        },
        "id": "HbUcOvAUPsz-",
        "outputId": "6320fd10-7a81-4dfd-9a00-489017226e07"
      },
      "execution_count": 14,
      "outputs": [
        {
          "output_type": "execute_result",
          "data": {
            "text/plain": [
              "<matplotlib.image.AxesImage at 0x7a3e7cb3dfc0>"
            ]
          },
          "metadata": {},
          "execution_count": 14
        },
        {
          "output_type": "display_data",
          "data": {
            "text/plain": [
              "<Figure size 640x480 with 1 Axes>"
            ],
            "image/png": "[encoded data removed]"
          },
          "metadata": {}
        }
      ]
    },
    {
      "cell_type": "code",
      "source": [
        "state_log"
      ],
      "metadata": {
        "colab": {
          "base_uri": "https://localhost:8080/"
        },
        "id": "eIxysvm3PuMP",
        "outputId": "3b0a271f-7cb1-4f89-82e9-3cc4c7d999e3"
      },
      "execution_count": 15,
      "outputs": [
        {
          "output_type": "execute_result",
          "data": {
            "text/plain": [
              "[12, 8, 4, 5, 6, 7, 3]"
            ]
          },
          "metadata": {},
          "execution_count": 15
        }
      ]
    }
  ]
}